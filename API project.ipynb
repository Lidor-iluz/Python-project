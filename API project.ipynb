{
 "cells": [
  {
   "cell_type": "code",
   "execution_count": 1,
   "metadata": {},
   "outputs": [],
   "source": [
    "import requests\n",
    "import bs4 \n",
    "import numpy as np \n",
    "import pandas as pd "
   ]
  },
  {
   "cell_type": "code",
   "execution_count": 2,
   "metadata": {},
   "outputs": [
    {
     "data": {
      "text/plain": [
       "['מראה דגם פלוסים',\n",
       " 'מראה דגם פתח',\n",
       " 'מראה לכיסוי ארון חשמל',\n",
       " 'מראה לכיסוי ארון חשמל',\n",
       " 'מראת גוף ענקית מסגרת ברזל',\n",
       " 'סולמראה']"
      ]
     },
     "execution_count": 2,
     "metadata": {},
     "output_type": "execute_result"
    }
   ],
   "source": [
    "site= requests.get('https://nooshka.co.il/?product_cat=מראות')\n",
    "soup= bs4.BeautifulSoup(site.text,'lxml') \n",
    "#getting products titles\n",
    "prodName=[]\n",
    "titles=soup.select('.woocommerce-loop-product__title')\n",
    "for title in titles:\n",
    "    prodName.append(title.text)\n",
    "\n",
    "prodName"
   ]
  },
  {
   "cell_type": "code",
   "execution_count": 3,
   "metadata": {},
   "outputs": [
    {
     "data": {
      "text/plain": [
       "['מראות', 'מראות', 'מראות', 'מראות', 'מראות', 'מראות']"
      ]
     },
     "execution_count": 3,
     "metadata": {},
     "output_type": "execute_result"
    }
   ],
   "source": [
    "#getting Category name\n",
    "Cat=soup.select('h2')[0].text\n",
    "Category=[]\n",
    "for i in range(len(prodName)):\n",
    "    Category.append(Cat)\n",
    "Category"
   ]
  },
  {
   "cell_type": "code",
   "execution_count": 4,
   "metadata": {},
   "outputs": [
    {
     "data": {
      "text/plain": [
       "['₪1,790.00', '₪1,490.00', '₪1,790.00', '₪1,790.00', '₪2,990.00', '₪1,490.00']"
      ]
     },
     "execution_count": 4,
     "metadata": {},
     "output_type": "execute_result"
    }
   ],
   "source": [
    "#getting prices\n",
    "price=[]\n",
    "spen=soup.select('.price')\n",
    "for prices in spen:\n",
    "    price.append(prices.text)\n",
    "price"
   ]
  },
  {
   "cell_type": "code",
   "execution_count": 5,
   "metadata": {},
   "outputs": [
    {
     "data": {
      "text/plain": [
       "['https://nooshka.co.il/wp-content/uploads/2020/12/5774709c-b8d3-450f-85a0-1cbff432147e-300x300.jpg',\n",
       " 'https://nooshka.co.il/wp-content/uploads/2020/12/IMG_2722-300x300.jpg',\n",
       " 'https://nooshka.co.il/wp-content/uploads/2020/12/75f1d347-e707-411e-b9fd-8c769a5d92b1-300x300.jpg',\n",
       " 'https://nooshka.co.il/wp-content/uploads/2021/04/IMG_4763-300x300.jpg',\n",
       " 'https://nooshka.co.il/wp-content/uploads/2020/12/4195a20b-7c5b-4098-a4c4-b541b84cbbf4-300x300.jpg',\n",
       " 'https://nooshka.co.il/wp-content/uploads/2020/12/IMG_9511-300x300.jpg']"
      ]
     },
     "execution_count": 5,
     "metadata": {},
     "output_type": "execute_result"
    }
   ],
   "source": [
    "#getting IMG\n",
    "image_url=[]\n",
    "img=soup.select('.attachment-woocommerce_thumbnail.size-woocommerce_thumbnail')\n",
    "for src in img:\n",
    "    image_url.append(src['src'])\n",
    "image_url"
   ]
  },
  {
   "cell_type": "code",
   "execution_count": 6,
   "metadata": {},
   "outputs": [
    {
     "data": {
      "text/plain": [
       "['מראה דגם פלוסים המיוצרת בעבודת יד ,מסגרת ברזל בעובי 10 מ\"מ צבע בתנור שחור מט. ניתן להזמין בכל שינוי ומידה בטלפון 0506991111',\n",
       " 'המראה המפורסמת של נושקה ,דגם פתח בחלקה התחתון. מיוצרת בעבודת יד ,מראת גוף מסגרת ברזל בעובי 2 מ\"מ , צבע בתנור שחור מט. ניתן להשעין ולקבע לקיר או לחילופין ניתנת לתלייה. ניתן להזמין בכל שינוי ומידה בטלפון 0506991111',\n",
       " 'מראה המיוצרת בעבודת יד לכיסוי ארונות חשמל עשויה 2 מסגרות ברזל -אחת מפרופיל ברזל 20/20 והשנייה עשויה ברזל שויתי. נסגרות במגנט חזק ואיכותי. צבע בתנור שחור מט. ניתן להזמין בכל שינוי ומידה בטלפון 0506991111',\n",
       " 'מראה המיוצרת בעבודת יד לכיסוי ארונות חשמל עשויה 2 מסגרות ברזל -אחת מפרופיל ברזל 20/20 והשנייה עשויה ברזל שויתי. נסגרות במגנט חזק ואיכותי. צבע בתנור שחור מט. ניתן להזמין בכל שינוי ומידה בטלפון 0506991111',\n",
       " 'מראת גוף ענקית המיוצרת בעבודת יד מסגרת ברזל דק בעובי 2 מ\"מ צבע בתנור שחור מט, ניתן להשעין ולקבע. ניתן להזמין בכל שינוי ומידה בטלפון 0506991111',\n",
       " 'סולמראה עשוי בעבודת יד מפרופיל ברזל במידה 15 מ\"מ צבע בתנור שחור מט. חלוקה של חלוקה של 35 סמ סולם ו 55 סמ מראה. ניתן לקבע לקיר. ניתן להזמין בכל שינוי ומידה בטלפון 0506991111']"
      ]
     },
     "execution_count": 6,
     "metadata": {},
     "output_type": "execute_result"
    }
   ],
   "source": [
    "#getting description \n",
    "url='https://nooshka.co.il/?product={}'\n",
    "descrip=[]\n",
    "for title in prodName:\n",
    "    des=requests.get(url.format(title))\n",
    "    soup2= bs4.BeautifulSoup(des.text,'lxml')\n",
    "    descrip.append(soup2.select('p')[0].text)\n",
    "descrip"
   ]
  },
  {
   "cell_type": "code",
   "execution_count": 7,
   "metadata": {},
   "outputs": [
    {
     "data": {
      "text/plain": [
       "['No sizes',\n",
       " '180/60, עובי 4 ס\"מ',\n",
       " '180/50 עומק 4 סמ',\n",
       " '180/50 עומק 4 סמ',\n",
       " 'No sizes',\n",
       " 'No sizes']"
      ]
     },
     "execution_count": 7,
     "metadata": {},
     "output_type": "execute_result"
    }
   ],
   "source": [
    "#getting Size \n",
    "url='https://nooshka.co.il/?product={}'\n",
    "size=[]\n",
    "for title in prodName:\n",
    "    req=requests.get(url.format(title))\n",
    "    soup2= bs4.BeautifulSoup(req.text,'lxml')\n",
    "    if(soup2.select('p')[4].text == 'ברזל'):\n",
    "        size.append('No sizes') #for product without descreption\n",
    "    else: size.append(soup2.select('p')[4].text)\n",
    "size"
   ]
  },
  {
   "cell_type": "code",
   "execution_count": 8,
   "metadata": {},
   "outputs": [
    {
     "data": {
      "text/html": [
       "<div>\n",
       "<style scoped>\n",
       "    .dataframe tbody tr th:only-of-type {\n",
       "        vertical-align: middle;\n",
       "    }\n",
       "\n",
       "    .dataframe tbody tr th {\n",
       "        vertical-align: top;\n",
       "    }\n",
       "\n",
       "    .dataframe thead th {\n",
       "        text-align: right;\n",
       "    }\n",
       "</style>\n",
       "<table border=\"1\" class=\"dataframe\">\n",
       "  <thead>\n",
       "    <tr style=\"text-align: right;\">\n",
       "      <th></th>\n",
       "      <th>ProdName</th>\n",
       "      <th>Category</th>\n",
       "      <th>Price</th>\n",
       "      <th>image_url</th>\n",
       "      <th>descreption</th>\n",
       "      <th>Size</th>\n",
       "    </tr>\n",
       "  </thead>\n",
       "  <tbody>\n",
       "    <tr>\n",
       "      <th>0</th>\n",
       "      <td>מראה דגם פלוסים</td>\n",
       "      <td>מראות</td>\n",
       "      <td>₪1,790.00</td>\n",
       "      <td>https://nooshka.co.il/wp-content/uploads/2020/...</td>\n",
       "      <td>מראה דגם פלוסים המיוצרת בעבודת יד ,מסגרת ברזל ...</td>\n",
       "      <td>No sizes</td>\n",
       "    </tr>\n",
       "    <tr>\n",
       "      <th>1</th>\n",
       "      <td>מראה דגם פתח</td>\n",
       "      <td>מראות</td>\n",
       "      <td>₪1,490.00</td>\n",
       "      <td>https://nooshka.co.il/wp-content/uploads/2020/...</td>\n",
       "      <td>המראה המפורסמת של נושקה ,דגם פתח בחלקה התחתון....</td>\n",
       "      <td>180/60, עובי 4 ס\"מ</td>\n",
       "    </tr>\n",
       "    <tr>\n",
       "      <th>2</th>\n",
       "      <td>מראה לכיסוי ארון חשמל</td>\n",
       "      <td>מראות</td>\n",
       "      <td>₪1,790.00</td>\n",
       "      <td>https://nooshka.co.il/wp-content/uploads/2020/...</td>\n",
       "      <td>מראה המיוצרת בעבודת יד לכיסוי ארונות חשמל עשוי...</td>\n",
       "      <td>180/50 עומק 4 סמ</td>\n",
       "    </tr>\n",
       "    <tr>\n",
       "      <th>3</th>\n",
       "      <td>מראה לכיסוי ארון חשמל</td>\n",
       "      <td>מראות</td>\n",
       "      <td>₪1,790.00</td>\n",
       "      <td>https://nooshka.co.il/wp-content/uploads/2021/...</td>\n",
       "      <td>מראה המיוצרת בעבודת יד לכיסוי ארונות חשמל עשוי...</td>\n",
       "      <td>180/50 עומק 4 סמ</td>\n",
       "    </tr>\n",
       "    <tr>\n",
       "      <th>4</th>\n",
       "      <td>מראת גוף ענקית מסגרת ברזל</td>\n",
       "      <td>מראות</td>\n",
       "      <td>₪2,990.00</td>\n",
       "      <td>https://nooshka.co.il/wp-content/uploads/2020/...</td>\n",
       "      <td>מראת גוף ענקית המיוצרת בעבודת יד מסגרת ברזל דק...</td>\n",
       "      <td>No sizes</td>\n",
       "    </tr>\n",
       "    <tr>\n",
       "      <th>5</th>\n",
       "      <td>סולמראה</td>\n",
       "      <td>מראות</td>\n",
       "      <td>₪1,490.00</td>\n",
       "      <td>https://nooshka.co.il/wp-content/uploads/2020/...</td>\n",
       "      <td>סולמראה עשוי בעבודת יד מפרופיל ברזל במידה 15 מ...</td>\n",
       "      <td>No sizes</td>\n",
       "    </tr>\n",
       "  </tbody>\n",
       "</table>\n",
       "</div>"
      ],
      "text/plain": [
       "                    ProdName Category      Price  \\\n",
       "0            מראה דגם פלוסים    מראות  ₪1,790.00   \n",
       "1               מראה דגם פתח    מראות  ₪1,490.00   \n",
       "2      מראה לכיסוי ארון חשמל    מראות  ₪1,790.00   \n",
       "3      מראה לכיסוי ארון חשמל    מראות  ₪1,790.00   \n",
       "4  מראת גוף ענקית מסגרת ברזל    מראות  ₪2,990.00   \n",
       "5                    סולמראה    מראות  ₪1,490.00   \n",
       "\n",
       "                                           image_url  \\\n",
       "0  https://nooshka.co.il/wp-content/uploads/2020/...   \n",
       "1  https://nooshka.co.il/wp-content/uploads/2020/...   \n",
       "2  https://nooshka.co.il/wp-content/uploads/2020/...   \n",
       "3  https://nooshka.co.il/wp-content/uploads/2021/...   \n",
       "4  https://nooshka.co.il/wp-content/uploads/2020/...   \n",
       "5  https://nooshka.co.il/wp-content/uploads/2020/...   \n",
       "\n",
       "                                         descreption                Size  \n",
       "0  מראה דגם פלוסים המיוצרת בעבודת יד ,מסגרת ברזל ...            No sizes  \n",
       "1  המראה המפורסמת של נושקה ,דגם פתח בחלקה התחתון....  180/60, עובי 4 ס\"מ  \n",
       "2  מראה המיוצרת בעבודת יד לכיסוי ארונות חשמל עשוי...    180/50 עומק 4 סמ  \n",
       "3  מראה המיוצרת בעבודת יד לכיסוי ארונות חשמל עשוי...    180/50 עומק 4 סמ  \n",
       "4  מראת גוף ענקית המיוצרת בעבודת יד מסגרת ברזל דק...            No sizes  \n",
       "5  סולמראה עשוי בעבודת יד מפרופיל ברזל במידה 15 מ...            No sizes  "
      ]
     },
     "execution_count": 8,
     "metadata": {},
     "output_type": "execute_result"
    }
   ],
   "source": [
    "#Creating a dataFrame\n",
    "data={'ProdName': prodName,\n",
    "      'Category': Category,\n",
    "      'Price': price,\n",
    "      'image_url': image_url,\n",
    "      'descreption': descrip,\n",
    "      'Size': size}\n",
    "\n",
    "df=pd.DataFrame(data)\n",
    "df"
   ]
  },
  {
   "cell_type": "code",
   "execution_count": 10,
   "metadata": {},
   "outputs": [],
   "source": [
    "#Export to CSV\n",
    "df.to_csv('products.csv', encoding='utf-8-sig')"
   ]
  }
 ],
 "metadata": {
  "kernelspec": {
   "display_name": "Python 3",
   "language": "python",
   "name": "python3"
  },
  "language_info": {
   "codemirror_mode": {
    "name": "ipython",
    "version": 3
   },
   "file_extension": ".py",
   "mimetype": "text/x-python",
   "name": "python",
   "nbconvert_exporter": "python",
   "pygments_lexer": "ipython3",
   "version": "3.8.3"
  }
 },
 "nbformat": 4,
 "nbformat_minor": 4
}
